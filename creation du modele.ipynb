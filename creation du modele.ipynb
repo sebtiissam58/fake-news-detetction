{
 "cells": [
  {
   "cell_type": "code",
   "execution_count": 2,
   "id": "3102535d",
   "metadata": {},
   "outputs": [],
   "source": [
    "import pandas as pd\n",
    "import string\n",
    "import re\n",
    "import nltk\n",
    "\n",
    "from sklearn.feature_extraction.text import CountVectorizer\n",
    "\n",
    "stopword = nltk.corpus.stopwords.words('english')\n",
    "s = nltk.PorterStemmer()"
   ]
  },
  {
   "cell_type": "markdown",
   "id": "92ed97f8",
   "metadata": {},
   "source": [
    "# lire data "
   ]
  },
  {
   "cell_type": "code",
   "execution_count": 3,
   "id": "98f828d0",
   "metadata": {},
   "outputs": [
    {
     "data": {
      "text/html": [
       "<div>\n",
       "<style scoped>\n",
       "    .dataframe tbody tr th:only-of-type {\n",
       "        vertical-align: middle;\n",
       "    }\n",
       "\n",
       "    .dataframe tbody tr th {\n",
       "        vertical-align: top;\n",
       "    }\n",
       "\n",
       "    .dataframe thead th {\n",
       "        text-align: right;\n",
       "    }\n",
       "</style>\n",
       "<table border=\"1\" class=\"dataframe\">\n",
       "  <thead>\n",
       "    <tr style=\"text-align: right;\">\n",
       "      <th></th>\n",
       "      <th>id</th>\n",
       "      <th>tweet</th>\n",
       "      <th>label</th>\n",
       "    </tr>\n",
       "  </thead>\n",
       "  <tbody>\n",
       "    <tr>\n",
       "      <th>0</th>\n",
       "      <td>1</td>\n",
       "      <td>The CDC currently reports 99031 deaths. In gen...</td>\n",
       "      <td>real</td>\n",
       "    </tr>\n",
       "    <tr>\n",
       "      <th>1</th>\n",
       "      <td>2</td>\n",
       "      <td>States reported 1121 deaths a small rise from ...</td>\n",
       "      <td>real</td>\n",
       "    </tr>\n",
       "    <tr>\n",
       "      <th>2</th>\n",
       "      <td>3</td>\n",
       "      <td>Politically Correct Woman (Almost) Uses Pandem...</td>\n",
       "      <td>fake</td>\n",
       "    </tr>\n",
       "    <tr>\n",
       "      <th>3</th>\n",
       "      <td>4</td>\n",
       "      <td>#IndiaFightsCorona: We have 1524 #COVID testin...</td>\n",
       "      <td>real</td>\n",
       "    </tr>\n",
       "    <tr>\n",
       "      <th>4</th>\n",
       "      <td>5</td>\n",
       "      <td>Populous states can generate large case counts...</td>\n",
       "      <td>real</td>\n",
       "    </tr>\n",
       "  </tbody>\n",
       "</table>\n",
       "</div>"
      ],
      "text/plain": [
       "   id                                              tweet label\n",
       "0   1  The CDC currently reports 99031 deaths. In gen...  real\n",
       "1   2  States reported 1121 deaths a small rise from ...  real\n",
       "2   3  Politically Correct Woman (Almost) Uses Pandem...  fake\n",
       "3   4  #IndiaFightsCorona: We have 1524 #COVID testin...  real\n",
       "4   5  Populous states can generate large case counts...  real"
      ]
     },
     "execution_count": 3,
     "metadata": {},
     "output_type": "execute_result"
    }
   ],
   "source": [
    "data = pd.read_excel('./ressources/Data-FakeRealCOVID.xlsx')\n",
    "data.head()"
   ]
  },
  {
   "cell_type": "markdown",
   "id": "cac2fa37",
   "metadata": {},
   "source": [
    "# change label "
   ]
  },
  {
   "cell_type": "code",
   "execution_count": 4,
   "id": "ea0fb432",
   "metadata": {},
   "outputs": [
    {
     "name": "stderr",
     "output_type": "stream",
     "text": [
      "C:\\Users\\Paragon\\AppData\\Local\\Temp\\ipykernel_2036\\2324142776.py:1: SettingWithCopyWarning: \n",
      "A value is trying to be set on a copy of a slice from a DataFrame\n",
      "\n",
      "See the caveats in the documentation: https://pandas.pydata.org/pandas-docs/stable/user_guide/indexing.html#returning-a-view-versus-a-copy\n",
      "  data.label[data.label == 'real'] = 1\n",
      "C:\\Users\\Paragon\\AppData\\Local\\Temp\\ipykernel_2036\\2324142776.py:2: SettingWithCopyWarning: \n",
      "A value is trying to be set on a copy of a slice from a DataFrame\n",
      "\n",
      "See the caveats in the documentation: https://pandas.pydata.org/pandas-docs/stable/user_guide/indexing.html#returning-a-view-versus-a-copy\n",
      "  data.label[data.label == 'fake'] = 0\n"
     ]
    }
   ],
   "source": [
    "data.label[data.label == 'real'] = 1\n",
    "data.label[data.label == 'fake'] = 0 "
   ]
  },
  {
   "cell_type": "markdown",
   "id": "0041f692",
   "metadata": {},
   "source": [
    "# nettoyage du texte "
   ]
  },
  {
   "cell_type": "code",
   "execution_count": 5,
   "id": "736fec9b",
   "metadata": {},
   "outputs": [
    {
     "data": {
      "text/plain": [
       "0       [cdc, current, report, death, gener, discrep, ...\n",
       "1       [state, report, death, small, rise, last, tues...\n",
       "2       [polit, correct, woman, almost, use, pandem, e...\n",
       "3       [indiafightscorona, covid, test, laboratori, i...\n",
       "4       [popul, state, gener, larg, case, count, look,...\n",
       "                              ...                        \n",
       "6415    [tiger, test, posit, covid, pleas, stay, away,...\n",
       "6416    [autopsi, prove, covid, blood, clot, pneumonia...\n",
       "6417    [post, claim, covid, vaccin, alreadi, develop,...\n",
       "6418     [aamir, khan, donat, cr, pm, relief, care, fund]\n",
       "6419    [day, sinc, last, case, covid, acquir, local, ...\n",
       "Name: tweet, Length: 6420, dtype: object"
      ]
     },
     "execution_count": 5,
     "metadata": {},
     "output_type": "execute_result"
    }
   ],
   "source": [
    "def clean_text(text):\n",
    "    text  = \"\".join([char for char in text if char not in string.punctuation])\n",
    "    text = re.sub('[0-9]+', '', text)  # removing numbers\n",
    "    text = re.sub('[^a-zA-Z]' , ' ' , text)\n",
    "    text = re.split('\\W+', text)\n",
    "    text = [w for w in text if not w.lower() in stopword]\n",
    "    text = [s.stem(word) for word in text]\n",
    "\n",
    "    return text\n",
    "data['tweet'].apply(lambda x: clean_text(x))"
   ]
  },
  {
   "cell_type": "markdown",
   "id": "18ec2eb8",
   "metadata": {},
   "source": [
    "# vectorisation "
   ]
  },
  {
   "cell_type": "code",
   "execution_count": 6,
   "id": "9985e952",
   "metadata": {},
   "outputs": [
    {
     "name": "stdout",
     "output_type": "stream",
     "text": [
      "6420 Number of tweets has 13635 words\n"
     ]
    }
   ],
   "source": [
    "countVectorizer = CountVectorizer(analyzer=clean_text) \n",
    "countVector = countVectorizer.fit_transform(data['tweet'])\n",
    "print('{} Number of tweets has {} words'.format(countVector.shape[0], countVector.shape[1]))"
   ]
  },
  {
   "cell_type": "code",
   "execution_count": 7,
   "id": "432f6e7d",
   "metadata": {},
   "outputs": [
    {
     "name": "stderr",
     "output_type": "stream",
     "text": [
      "c:\\users\\paragon\\appdata\\local\\programs\\python\\python39\\lib\\site-packages\\sklearn\\utils\\deprecation.py:87: FutureWarning: Function get_feature_names is deprecated; get_feature_names is deprecated in 1.0 and will be removed in 1.2. Please use get_feature_names_out instead.\n",
      "  warnings.warn(msg, category=FutureWarning)\n"
     ]
    },
    {
     "data": {
      "text/html": [
       "<div>\n",
       "<style scoped>\n",
       "    .dataframe tbody tr th:only-of-type {\n",
       "        vertical-align: middle;\n",
       "    }\n",
       "\n",
       "    .dataframe tbody tr th {\n",
       "        vertical-align: top;\n",
       "    }\n",
       "\n",
       "    .dataframe thead th {\n",
       "        text-align: right;\n",
       "    }\n",
       "</style>\n",
       "<table border=\"1\" class=\"dataframe\">\n",
       "  <thead>\n",
       "    <tr style=\"text-align: right;\">\n",
       "      <th></th>\n",
       "      <th></th>\n",
       "      <th>aa</th>\n",
       "      <th>aadajoli</th>\n",
       "      <th>aaioffici</th>\n",
       "      <th>aaj</th>\n",
       "      <th>aajtak</th>\n",
       "      <th>aamaadmiparti</th>\n",
       "      <th>aamctoday</th>\n",
       "      <th>aamir</th>\n",
       "      <th>aamp</th>\n",
       "      <th>...</th>\n",
       "      <th>zone</th>\n",
       "      <th>zonecityspecif</th>\n",
       "      <th>zoo</th>\n",
       "      <th>zoodirector</th>\n",
       "      <th>zookeep</th>\n",
       "      <th>zoolog</th>\n",
       "      <th>zoom</th>\n",
       "      <th>zubymus</th>\n",
       "      <th>zydu</th>\n",
       "      <th>zyphr</th>\n",
       "    </tr>\n",
       "  </thead>\n",
       "  <tbody>\n",
       "    <tr>\n",
       "      <th>0</th>\n",
       "      <td>0</td>\n",
       "      <td>0</td>\n",
       "      <td>0</td>\n",
       "      <td>0</td>\n",
       "      <td>0</td>\n",
       "      <td>0</td>\n",
       "      <td>0</td>\n",
       "      <td>0</td>\n",
       "      <td>0</td>\n",
       "      <td>0</td>\n",
       "      <td>...</td>\n",
       "      <td>0</td>\n",
       "      <td>0</td>\n",
       "      <td>0</td>\n",
       "      <td>0</td>\n",
       "      <td>0</td>\n",
       "      <td>0</td>\n",
       "      <td>0</td>\n",
       "      <td>0</td>\n",
       "      <td>0</td>\n",
       "      <td>0</td>\n",
       "    </tr>\n",
       "    <tr>\n",
       "      <th>1</th>\n",
       "      <td>0</td>\n",
       "      <td>0</td>\n",
       "      <td>0</td>\n",
       "      <td>0</td>\n",
       "      <td>0</td>\n",
       "      <td>0</td>\n",
       "      <td>0</td>\n",
       "      <td>0</td>\n",
       "      <td>0</td>\n",
       "      <td>0</td>\n",
       "      <td>...</td>\n",
       "      <td>0</td>\n",
       "      <td>0</td>\n",
       "      <td>0</td>\n",
       "      <td>0</td>\n",
       "      <td>0</td>\n",
       "      <td>0</td>\n",
       "      <td>0</td>\n",
       "      <td>0</td>\n",
       "      <td>0</td>\n",
       "      <td>0</td>\n",
       "    </tr>\n",
       "    <tr>\n",
       "      <th>2</th>\n",
       "      <td>0</td>\n",
       "      <td>0</td>\n",
       "      <td>0</td>\n",
       "      <td>0</td>\n",
       "      <td>0</td>\n",
       "      <td>0</td>\n",
       "      <td>0</td>\n",
       "      <td>0</td>\n",
       "      <td>0</td>\n",
       "      <td>0</td>\n",
       "      <td>...</td>\n",
       "      <td>0</td>\n",
       "      <td>0</td>\n",
       "      <td>0</td>\n",
       "      <td>0</td>\n",
       "      <td>0</td>\n",
       "      <td>0</td>\n",
       "      <td>0</td>\n",
       "      <td>0</td>\n",
       "      <td>0</td>\n",
       "      <td>0</td>\n",
       "    </tr>\n",
       "    <tr>\n",
       "      <th>3</th>\n",
       "      <td>0</td>\n",
       "      <td>0</td>\n",
       "      <td>0</td>\n",
       "      <td>0</td>\n",
       "      <td>0</td>\n",
       "      <td>0</td>\n",
       "      <td>0</td>\n",
       "      <td>0</td>\n",
       "      <td>0</td>\n",
       "      <td>0</td>\n",
       "      <td>...</td>\n",
       "      <td>0</td>\n",
       "      <td>0</td>\n",
       "      <td>0</td>\n",
       "      <td>0</td>\n",
       "      <td>0</td>\n",
       "      <td>0</td>\n",
       "      <td>0</td>\n",
       "      <td>0</td>\n",
       "      <td>0</td>\n",
       "      <td>0</td>\n",
       "    </tr>\n",
       "    <tr>\n",
       "      <th>4</th>\n",
       "      <td>0</td>\n",
       "      <td>0</td>\n",
       "      <td>0</td>\n",
       "      <td>0</td>\n",
       "      <td>0</td>\n",
       "      <td>0</td>\n",
       "      <td>0</td>\n",
       "      <td>0</td>\n",
       "      <td>0</td>\n",
       "      <td>0</td>\n",
       "      <td>...</td>\n",
       "      <td>0</td>\n",
       "      <td>0</td>\n",
       "      <td>0</td>\n",
       "      <td>0</td>\n",
       "      <td>0</td>\n",
       "      <td>0</td>\n",
       "      <td>0</td>\n",
       "      <td>0</td>\n",
       "      <td>0</td>\n",
       "      <td>0</td>\n",
       "    </tr>\n",
       "    <tr>\n",
       "      <th>...</th>\n",
       "      <td>...</td>\n",
       "      <td>...</td>\n",
       "      <td>...</td>\n",
       "      <td>...</td>\n",
       "      <td>...</td>\n",
       "      <td>...</td>\n",
       "      <td>...</td>\n",
       "      <td>...</td>\n",
       "      <td>...</td>\n",
       "      <td>...</td>\n",
       "      <td>...</td>\n",
       "      <td>...</td>\n",
       "      <td>...</td>\n",
       "      <td>...</td>\n",
       "      <td>...</td>\n",
       "      <td>...</td>\n",
       "      <td>...</td>\n",
       "      <td>...</td>\n",
       "      <td>...</td>\n",
       "      <td>...</td>\n",
       "      <td>...</td>\n",
       "    </tr>\n",
       "    <tr>\n",
       "      <th>6415</th>\n",
       "      <td>0</td>\n",
       "      <td>0</td>\n",
       "      <td>0</td>\n",
       "      <td>0</td>\n",
       "      <td>0</td>\n",
       "      <td>0</td>\n",
       "      <td>0</td>\n",
       "      <td>0</td>\n",
       "      <td>0</td>\n",
       "      <td>0</td>\n",
       "      <td>...</td>\n",
       "      <td>0</td>\n",
       "      <td>0</td>\n",
       "      <td>0</td>\n",
       "      <td>0</td>\n",
       "      <td>0</td>\n",
       "      <td>0</td>\n",
       "      <td>0</td>\n",
       "      <td>0</td>\n",
       "      <td>0</td>\n",
       "      <td>0</td>\n",
       "    </tr>\n",
       "    <tr>\n",
       "      <th>6416</th>\n",
       "      <td>0</td>\n",
       "      <td>0</td>\n",
       "      <td>0</td>\n",
       "      <td>0</td>\n",
       "      <td>0</td>\n",
       "      <td>0</td>\n",
       "      <td>0</td>\n",
       "      <td>0</td>\n",
       "      <td>0</td>\n",
       "      <td>0</td>\n",
       "      <td>...</td>\n",
       "      <td>0</td>\n",
       "      <td>0</td>\n",
       "      <td>0</td>\n",
       "      <td>0</td>\n",
       "      <td>0</td>\n",
       "      <td>0</td>\n",
       "      <td>0</td>\n",
       "      <td>0</td>\n",
       "      <td>0</td>\n",
       "      <td>0</td>\n",
       "    </tr>\n",
       "    <tr>\n",
       "      <th>6417</th>\n",
       "      <td>0</td>\n",
       "      <td>0</td>\n",
       "      <td>0</td>\n",
       "      <td>0</td>\n",
       "      <td>0</td>\n",
       "      <td>0</td>\n",
       "      <td>0</td>\n",
       "      <td>0</td>\n",
       "      <td>0</td>\n",
       "      <td>0</td>\n",
       "      <td>...</td>\n",
       "      <td>0</td>\n",
       "      <td>0</td>\n",
       "      <td>0</td>\n",
       "      <td>0</td>\n",
       "      <td>0</td>\n",
       "      <td>0</td>\n",
       "      <td>0</td>\n",
       "      <td>0</td>\n",
       "      <td>0</td>\n",
       "      <td>0</td>\n",
       "    </tr>\n",
       "    <tr>\n",
       "      <th>6418</th>\n",
       "      <td>0</td>\n",
       "      <td>0</td>\n",
       "      <td>0</td>\n",
       "      <td>0</td>\n",
       "      <td>0</td>\n",
       "      <td>0</td>\n",
       "      <td>0</td>\n",
       "      <td>0</td>\n",
       "      <td>1</td>\n",
       "      <td>0</td>\n",
       "      <td>...</td>\n",
       "      <td>0</td>\n",
       "      <td>0</td>\n",
       "      <td>0</td>\n",
       "      <td>0</td>\n",
       "      <td>0</td>\n",
       "      <td>0</td>\n",
       "      <td>0</td>\n",
       "      <td>0</td>\n",
       "      <td>0</td>\n",
       "      <td>0</td>\n",
       "    </tr>\n",
       "    <tr>\n",
       "      <th>6419</th>\n",
       "      <td>1</td>\n",
       "      <td>0</td>\n",
       "      <td>0</td>\n",
       "      <td>0</td>\n",
       "      <td>0</td>\n",
       "      <td>0</td>\n",
       "      <td>0</td>\n",
       "      <td>0</td>\n",
       "      <td>0</td>\n",
       "      <td>0</td>\n",
       "      <td>...</td>\n",
       "      <td>0</td>\n",
       "      <td>0</td>\n",
       "      <td>0</td>\n",
       "      <td>0</td>\n",
       "      <td>0</td>\n",
       "      <td>0</td>\n",
       "      <td>0</td>\n",
       "      <td>0</td>\n",
       "      <td>0</td>\n",
       "      <td>0</td>\n",
       "    </tr>\n",
       "  </tbody>\n",
       "</table>\n",
       "<p>6420 rows × 13635 columns</p>\n",
       "</div>"
      ],
      "text/plain": [
       "         aa  aadajoli  aaioffici  aaj  aajtak  aamaadmiparti  aamctoday  \\\n",
       "0     0   0         0          0    0       0              0          0   \n",
       "1     0   0         0          0    0       0              0          0   \n",
       "2     0   0         0          0    0       0              0          0   \n",
       "3     0   0         0          0    0       0              0          0   \n",
       "4     0   0         0          0    0       0              0          0   \n",
       "...  ..  ..       ...        ...  ...     ...            ...        ...   \n",
       "6415  0   0         0          0    0       0              0          0   \n",
       "6416  0   0         0          0    0       0              0          0   \n",
       "6417  0   0         0          0    0       0              0          0   \n",
       "6418  0   0         0          0    0       0              0          0   \n",
       "6419  1   0         0          0    0       0              0          0   \n",
       "\n",
       "      aamir  aamp  ...  zone  zonecityspecif  zoo  zoodirector  zookeep  \\\n",
       "0         0     0  ...     0               0    0            0        0   \n",
       "1         0     0  ...     0               0    0            0        0   \n",
       "2         0     0  ...     0               0    0            0        0   \n",
       "3         0     0  ...     0               0    0            0        0   \n",
       "4         0     0  ...     0               0    0            0        0   \n",
       "...     ...   ...  ...   ...             ...  ...          ...      ...   \n",
       "6415      0     0  ...     0               0    0            0        0   \n",
       "6416      0     0  ...     0               0    0            0        0   \n",
       "6417      0     0  ...     0               0    0            0        0   \n",
       "6418      1     0  ...     0               0    0            0        0   \n",
       "6419      0     0  ...     0               0    0            0        0   \n",
       "\n",
       "      zoolog  zoom  zubymus  zydu  zyphr  \n",
       "0          0     0        0     0      0  \n",
       "1          0     0        0     0      0  \n",
       "2          0     0        0     0      0  \n",
       "3          0     0        0     0      0  \n",
       "4          0     0        0     0      0  \n",
       "...      ...   ...      ...   ...    ...  \n",
       "6415       0     0        0     0      0  \n",
       "6416       0     0        0     0      0  \n",
       "6417       0     0        0     0      0  \n",
       "6418       0     0        0     0      0  \n",
       "6419       0     0        0     0      0  \n",
       "\n",
       "[6420 rows x 13635 columns]"
      ]
     },
     "execution_count": 7,
     "metadata": {},
     "output_type": "execute_result"
    }
   ],
   "source": [
    "vect = pd.DataFrame(countVector.toarray(), columns=countVectorizer.get_feature_names())\n",
    "vect"
   ]
  },
  {
   "cell_type": "markdown",
   "id": "d3bbffe6",
   "metadata": {},
   "source": [
    "# telechargement de la liste des token  "
   ]
  },
  {
   "cell_type": "code",
   "execution_count": 8,
   "id": "7693547c",
   "metadata": {},
   "outputs": [
    {
     "name": "stderr",
     "output_type": "stream",
     "text": [
      "c:\\users\\paragon\\appdata\\local\\programs\\python\\python39\\lib\\site-packages\\sklearn\\utils\\deprecation.py:87: FutureWarning: Function get_feature_names is deprecated; get_feature_names is deprecated in 1.0 and will be removed in 1.2. Please use get_feature_names_out instead.\n",
      "  warnings.warn(msg, category=FutureWarning)\n"
     ]
    }
   ],
   "source": [
    "words=countVectorizer.get_feature_names()\n",
    "with open('./ressources/words.txt', 'w') as temp_file:\n",
    "    for item in words:\n",
    "        temp_file.write(\"%s\\n\" % item)"
   ]
  },
  {
   "cell_type": "markdown",
   "id": "e9b47533",
   "metadata": {},
   "source": [
    "# division des donnes"
   ]
  },
  {
   "cell_type": "code",
   "execution_count": 9,
   "id": "968f9aaf",
   "metadata": {},
   "outputs": [],
   "source": [
    "import numpy as np \n",
    "from sklearn.model_selection import train_test_split"
   ]
  },
  {
   "cell_type": "code",
   "execution_count": 10,
   "id": "bd843f7b",
   "metadata": {},
   "outputs": [
    {
     "name": "stderr",
     "output_type": "stream",
     "text": [
      "C:\\Users\\Paragon\\AppData\\Local\\Temp\\ipykernel_2036\\2440426435.py:3: DeprecationWarning: `np.int` is a deprecated alias for the builtin `int`. To silence this warning, use `int` by itself. Doing this will not modify any behavior and is safe. When replacing `np.int`, you may wish to use e.g. `np.int64` or `np.int32` to specify the precision. If you wish to review your current use, check the release note link for additional information.\n",
      "Deprecated in NumPy 1.20; for more details and guidance: https://numpy.org/devdocs/release/1.20.0-notes.html#deprecations\n",
      "  x_train=np.asarray(x_train).astype(np.int)\n",
      "C:\\Users\\Paragon\\AppData\\Local\\Temp\\ipykernel_2036\\2440426435.py:4: DeprecationWarning: `np.int` is a deprecated alias for the builtin `int`. To silence this warning, use `int` by itself. Doing this will not modify any behavior and is safe. When replacing `np.int`, you may wish to use e.g. `np.int64` or `np.int32` to specify the precision. If you wish to review your current use, check the release note link for additional information.\n",
      "Deprecated in NumPy 1.20; for more details and guidance: https://numpy.org/devdocs/release/1.20.0-notes.html#deprecations\n",
      "  y_train=np.asarray(y_train).astype(np.int)\n",
      "C:\\Users\\Paragon\\AppData\\Local\\Temp\\ipykernel_2036\\2440426435.py:5: DeprecationWarning: `np.int` is a deprecated alias for the builtin `int`. To silence this warning, use `int` by itself. Doing this will not modify any behavior and is safe. When replacing `np.int`, you may wish to use e.g. `np.int64` or `np.int32` to specify the precision. If you wish to review your current use, check the release note link for additional information.\n",
      "Deprecated in NumPy 1.20; for more details and guidance: https://numpy.org/devdocs/release/1.20.0-notes.html#deprecations\n",
      "  x_test=np.asarray(x_test).astype(np.int)\n",
      "C:\\Users\\Paragon\\AppData\\Local\\Temp\\ipykernel_2036\\2440426435.py:6: DeprecationWarning: `np.int` is a deprecated alias for the builtin `int`. To silence this warning, use `int` by itself. Doing this will not modify any behavior and is safe. When replacing `np.int`, you may wish to use e.g. `np.int64` or `np.int32` to specify the precision. If you wish to review your current use, check the release note link for additional information.\n",
      "Deprecated in NumPy 1.20; for more details and guidance: https://numpy.org/devdocs/release/1.20.0-notes.html#deprecations\n",
      "  y_test=np.asarray(y_test).astype(np.int)\n"
     ]
    }
   ],
   "source": [
    "y=data.label\n",
    "x_train, x_test, y_train, y_test = train_test_split(vect, y, test_size=0.2)\n",
    "x_train=np.asarray(x_train).astype(np.int)\n",
    "y_train=np.asarray(y_train).astype(np.int)\n",
    "x_test=np.asarray(x_test).astype(np.int)\n",
    "y_test=np.asarray(y_test).astype(np.int)"
   ]
  },
  {
   "cell_type": "markdown",
   "id": "dbaded53",
   "metadata": {},
   "source": [
    "# definition du model"
   ]
  },
  {
   "cell_type": "code",
   "execution_count": 11,
   "id": "c36d459f",
   "metadata": {},
   "outputs": [],
   "source": [
    "import tensorflow as tf"
   ]
  },
  {
   "cell_type": "code",
   "execution_count": 12,
   "id": "0809f057",
   "metadata": {},
   "outputs": [],
   "source": [
    "model=tf.keras.models.Sequential()\n",
    "\n",
    "model.add(tf.keras.layers.Dense(100,activation='relu'))\n",
    "\n",
    "model.add(tf.keras.layers.Dense(1, activation='sigmoid'))\n",
    "\n",
    "model.compile(loss='binary_crossentropy', optimizer='adam', metrics=['acc'])"
   ]
  },
  {
   "cell_type": "markdown",
   "id": "1fe5e758",
   "metadata": {},
   "source": [
    "# training du modele"
   ]
  },
  {
   "cell_type": "code",
   "execution_count": 14,
   "id": "e60ea3ab",
   "metadata": {
    "scrolled": false
   },
   "outputs": [
    {
     "name": "stdout",
     "output_type": "stream",
     "text": [
      "Epoch 1/25\n",
      "161/161 [==============================] - 3s 16ms/step - loss: 0.0190 - acc: 0.9969\n",
      "Epoch 2/25\n",
      "161/161 [==============================] - 2s 15ms/step - loss: 0.0106 - acc: 0.9990\n",
      "Epoch 3/25\n",
      "161/161 [==============================] - 2s 15ms/step - loss: 0.0065 - acc: 0.9996\n",
      "Epoch 4/25\n",
      "161/161 [==============================] - 2s 15ms/step - loss: 0.0044 - acc: 0.9998\n",
      "Epoch 5/25\n",
      "161/161 [==============================] - 3s 16ms/step - loss: 0.0031 - acc: 0.9998\n",
      "Epoch 6/25\n",
      "161/161 [==============================] - 3s 16ms/step - loss: 0.0023 - acc: 1.0000\n",
      "Epoch 7/25\n",
      "161/161 [==============================] - 3s 16ms/step - loss: 0.0018 - acc: 1.0000\n",
      "Epoch 8/25\n",
      "161/161 [==============================] - 3s 16ms/step - loss: 0.0014 - acc: 1.0000\n",
      "Epoch 9/25\n",
      "161/161 [==============================] - 2s 15ms/step - loss: 0.0011 - acc: 1.0000\n",
      "Epoch 10/25\n",
      "161/161 [==============================] - 2s 15ms/step - loss: 9.1620e-04 - acc: 1.0000\n",
      "Epoch 11/25\n",
      "161/161 [==============================] - 2s 15ms/step - loss: 7.6738e-04 - acc: 1.0000\n",
      "Epoch 12/25\n",
      "161/161 [==============================] - 2s 15ms/step - loss: 6.4498e-04 - acc: 1.0000\n",
      "Epoch 13/25\n",
      "161/161 [==============================] - 2s 15ms/step - loss: 5.4896e-04 - acc: 1.0000\n",
      "Epoch 14/25\n",
      "161/161 [==============================] - 2s 15ms/step - loss: 4.6948e-04 - acc: 1.0000\n",
      "Epoch 15/25\n",
      "161/161 [==============================] - 2s 15ms/step - loss: 4.0595e-04 - acc: 1.0000\n",
      "Epoch 16/25\n",
      "161/161 [==============================] - 2s 15ms/step - loss: 3.5155e-04 - acc: 1.0000\n",
      "Epoch 17/25\n",
      "161/161 [==============================] - 2s 15ms/step - loss: 3.0604e-04 - acc: 1.0000\n",
      "Epoch 18/25\n",
      "161/161 [==============================] - 2s 15ms/step - loss: 2.6677e-04 - acc: 1.0000\n",
      "Epoch 19/25\n",
      "161/161 [==============================] - 2s 15ms/step - loss: 2.3501e-04 - acc: 1.0000\n",
      "Epoch 20/25\n",
      "161/161 [==============================] - 2s 15ms/step - loss: 2.0726e-04 - acc: 1.0000\n",
      "Epoch 21/25\n",
      "161/161 [==============================] - 2s 15ms/step - loss: 1.8241e-04 - acc: 1.0000\n",
      "Epoch 22/25\n",
      "161/161 [==============================] - 2s 15ms/step - loss: 1.6187e-04 - acc: 1.0000\n",
      "Epoch 23/25\n",
      "161/161 [==============================] - 2s 15ms/step - loss: 1.4445e-04 - acc: 1.0000\n",
      "Epoch 24/25\n",
      "161/161 [==============================] - 2s 15ms/step - loss: 1.2825e-04 - acc: 1.0000\n",
      "Epoch 25/25\n",
      "161/161 [==============================] - 2s 15ms/step - loss: 1.1444e-04 - acc: 1.0000\n"
     ]
    }
   ],
   "source": [
    "history=model.fit(x_train, y_train, epochs=25)"
   ]
  },
  {
   "cell_type": "code",
   "execution_count": 15,
   "id": "573a2613",
   "metadata": {},
   "outputs": [
    {
     "name": "stdout",
     "output_type": "stream",
     "text": [
      "Model: \"sequential\"\n",
      "_________________________________________________________________\n",
      " Layer (type)                Output Shape              Param #   \n",
      "=================================================================\n",
      " dense (Dense)               (None, 100)               1363600   \n",
      "                                                                 \n",
      " dense_1 (Dense)             (None, 1)                 101       \n",
      "                                                                 \n",
      "=================================================================\n",
      "Total params: 1,363,701\n",
      "Trainable params: 1,363,701\n",
      "Non-trainable params: 0\n",
      "_________________________________________________________________\n"
     ]
    }
   ],
   "source": [
    "model.summary()"
   ]
  },
  {
   "cell_type": "markdown",
   "id": "d8481da1",
   "metadata": {},
   "source": [
    "# evaluation du model "
   ]
  },
  {
   "cell_type": "code",
   "execution_count": 16,
   "id": "97b0f6d8",
   "metadata": {},
   "outputs": [
    {
     "name": "stdout",
     "output_type": "stream",
     "text": [
      "Test Accuracy: 91.822428\n"
     ]
    }
   ],
   "source": [
    "loss, acc = model.evaluate(x_test, y_test, verbose=0)\n",
    "print('Test Accuracy: %f' % (acc*100))"
   ]
  },
  {
   "cell_type": "code",
   "execution_count": 18,
   "id": "11277314",
   "metadata": {},
   "outputs": [
    {
     "data": {
      "image/png": "[encoded data removed]",
      "text/plain": [
       "<Figure size 432x288 with 1 Axes>"
      ]
     },
     "metadata": {
      "needs_background": "light"
     },
     "output_type": "display_data"
    }
   ],
   "source": [
    "from matplotlib import pyplot\n",
    "\n",
    "pyplot.title('Learning Curves')\n",
    "pyplot.xlabel('Epoch')\n",
    "pyplot.ylabel('Cross Entropy')\n",
    "pyplot.plot(history.history['loss'], label='train')\n",
    "pyplot.plot(history.history['acc'], label='val')\n",
    "pyplot.legend()\n",
    "pyplot.show()"
   ]
  },
  {
   "cell_type": "markdown",
   "id": "9118223a",
   "metadata": {},
   "source": [
    "# sauvgarde du model"
   ]
  },
  {
   "cell_type": "code",
   "execution_count": 44,
   "id": "3cf94bfb",
   "metadata": {},
   "outputs": [
    {
     "name": "stdout",
     "output_type": "stream",
     "text": [
      "INFO:tensorflow:Assets written to: ./ressources/model\\assets\n"
     ]
    }
   ],
   "source": [
    "model.save('./ressources/model')"
   ]
  },
  {
   "cell_type": "markdown",
   "id": "fb381208",
   "metadata": {},
   "source": [
    "# utilisation du model"
   ]
  },
  {
   "cell_type": "code",
   "execution_count": 19,
   "id": "6eb0907b",
   "metadata": {},
   "outputs": [],
   "source": [
    "def vect_sent(tweet, words):\n",
    "    \n",
    "    tweet_word = clean_text(tweet)\n",
    "   \n",
    "    bag = [0]*len(words)  \n",
    "    for s in tweet_word:\n",
    "        for i,w in enumerate(words):\n",
    "            if w == s: \n",
    "                bag[i] = 1\n",
    "    \n",
    "    \n",
    "    a_predire=[]\n",
    "    a_predire.append(np.array(bag))\n",
    "    return(a_predire)"
   ]
  },
  {
   "cell_type": "code",
   "execution_count": 23,
   "id": "51ae055b",
   "metadata": {},
   "outputs": [
    {
     "name": "stdout",
     "output_type": "stream",
     "text": [
      "real\n"
     ]
    },
    {
     "name": "stderr",
     "output_type": "stream",
     "text": [
      "C:\\Users\\Paragon\\AppData\\Local\\Temp\\ipykernel_2036\\1078005956.py:5: DeprecationWarning: `np.int` is a deprecated alias for the builtin `int`. To silence this warning, use `int` by itself. Doing this will not modify any behavior and is safe. When replacing `np.int`, you may wish to use e.g. `np.int64` or `np.int32` to specify the precision. If you wish to review your current use, check the release note link for additional information.\n",
      "Deprecated in NumPy 1.20; for more details and guidance: https://numpy.org/devdocs/release/1.20.0-notes.html#deprecations\n",
      "  a_predire=np.asarray(a_predire).astype(np.int)\n"
     ]
    }
   ],
   "source": [
    "tweet='The CDC currently reports 99031 deaths. In general the discrepancies in death counts between different sources are small and explicable. The death toll stands at roughly 100000 people today.'\n",
    "\n",
    "a_predire=vect_sent(tweet,words)\n",
    "\n",
    "a_predire=np.asarray(a_predire).astype(np.int)\n",
    "\n",
    "result=model.predict(a_predire)\n",
    "if 0.9<result[0][0] :\n",
    "    print('real')\n",
    "else :\n",
    "    print('Fake')"
   ]
  },
  {
   "cell_type": "code",
   "execution_count": null,
   "id": "6956e3f3",
   "metadata": {},
   "outputs": [],
   "source": []
  }
 ],
 "metadata": {
  "kernelspec": {
   "display_name": "Python 3 (ipykernel)",
   "language": "python",
   "name": "python3"
  },
  "language_info": {
   "codemirror_mode": {
    "name": "ipython",
    "version": 3
   },
   "file_extension": ".py",
   "mimetype": "text/x-python",
   "name": "python",
   "nbconvert_exporter": "python",
   "pygments_lexer": "ipython3",
   "version": "3.9.0"
  }
 },
 "nbformat": 4,
 "nbformat_minor": 5
}
