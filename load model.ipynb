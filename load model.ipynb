{
 "cells": [
  {
   "cell_type": "code",
   "execution_count": 11,
   "id": "347d1c27",
   "metadata": {},
   "outputs": [],
   "source": [
    "from tensorflow import keras\n",
    "import numpy as np \n",
    "import string\n",
    "import re\n",
    "import nltk \n",
    "\n",
    "stopword = nltk.corpus.stopwords.words('english')\n",
    "s = nltk.PorterStemmer()"
   ]
  },
  {
   "cell_type": "markdown",
   "id": "96fcd51a",
   "metadata": {},
   "source": [
    "# load list of words"
   ]
  },
  {
   "cell_type": "code",
   "execution_count": 12,
   "id": "fdc062cd",
   "metadata": {},
   "outputs": [],
   "source": [
    "with open('./ressources/words.txt') as f:\n",
    "    words = f.read().splitlines()\n"
   ]
  },
  {
   "cell_type": "code",
   "execution_count": 13,
   "id": "d29ff24f",
   "metadata": {},
   "outputs": [],
   "source": [
    "def clean_text(text):\n",
    "    text  = \"\".join([char for char in text if char not in string.punctuation])\n",
    "    text = re.sub('[0-9]+', '', text)  # removing numbers\n",
    "    text = re.sub('[^a-zA-Z]' , ' ' , text)\n",
    "    text = re.split('\\W+', text)\n",
    "    text = [w for w in text if not w.lower() in stopword]\n",
    "    text = [s.stem(word) for word in text]\n",
    "\n",
    "    return text"
   ]
  },
  {
   "cell_type": "markdown",
   "id": "4694df4b",
   "metadata": {},
   "source": [
    "# load model"
   ]
  },
  {
   "cell_type": "code",
   "execution_count": 14,
   "id": "b98ca7ac",
   "metadata": {},
   "outputs": [],
   "source": [
    "model = keras.models.load_model('./ressources/model')"
   ]
  },
  {
   "cell_type": "markdown",
   "id": "ec0f9840",
   "metadata": {},
   "source": [
    "# utilisation du modele"
   ]
  },
  {
   "cell_type": "code",
   "execution_count": 15,
   "id": "5f598997",
   "metadata": {},
   "outputs": [
    {
     "name": "stdout",
     "output_type": "stream",
     "text": [
      "Fake\n"
     ]
    },
    {
     "name": "stderr",
     "output_type": "stream",
     "text": [
      "C:\\Users\\Paragon\\AppData\\Local\\Temp\\ipykernel_15540\\2007763409.py:20: DeprecationWarning: `np.int` is a deprecated alias for the builtin `int`. To silence this warning, use `int` by itself. Doing this will not modify any behavior and is safe. When replacing `np.int`, you may wish to use e.g. `np.int64` or `np.int32` to specify the precision. If you wish to review your current use, check the release note link for additional information.\n",
      "Deprecated in NumPy 1.20; for more details and guidance: https://numpy.org/devdocs/release/1.20.0-notes.html#deprecations\n",
      "  a_predire=np.asarray(a_predire).astype(np.int)\n"
     ]
    }
   ],
   "source": [
    "def vect_sent(tweet, words):\n",
    "    # tokenize the pattern\n",
    "    tweet_word = clean_text(tweet)\n",
    "    # bag of words\n",
    "    bag = [0]*len(words)  \n",
    "    for s in tweet_word:\n",
    "        for i,w in enumerate(words):\n",
    "            if w == s: \n",
    "                bag[i] = 1\n",
    "    \n",
    "    \n",
    "    a_predire=[]\n",
    "    a_predire.append(np.array(bag))\n",
    "    return(a_predire)\n",
    "\n",
    "tweet='_A post claims a COVID-19 vaccine has already been developed and will cause widespread infertility._'\n",
    "\n",
    "a_predire=vect_sent(tweet,words)\n",
    "\n",
    "a_predire=np.asarray(a_predire).astype(np.int)\n",
    "\n",
    "result=model.predict(a_predire)\n",
    "\n",
    "if 0.9<result[0][0]<1.2 :\n",
    "    print('real')\n",
    "else :\n",
    "    print('Fake')"
   ]
  }
 ],
 "metadata": {
  "kernelspec": {
   "display_name": "Python 3 (ipykernel)",
   "language": "python",
   "name": "python3"
  },
  "language_info": {
   "codemirror_mode": {
    "name": "ipython",
    "version": 3
   },
   "file_extension": ".py",
   "mimetype": "text/x-python",
   "name": "python",
   "nbconvert_exporter": "python",
   "pygments_lexer": "ipython3",
   "version": "3.9.0"
  }
 },
 "nbformat": 4,
 "nbformat_minor": 5
}
